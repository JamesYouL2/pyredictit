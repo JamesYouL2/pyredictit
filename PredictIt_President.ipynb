{
 "metadata": {
  "language_info": {
   "codemirror_mode": {
    "name": "ipython",
    "version": 3
   },
   "file_extension": ".py",
   "mimetype": "text/x-python",
   "name": "python",
   "nbconvert_exporter": "python",
   "pygments_lexer": "ipython3",
   "version": "3.8.3-final"
  },
  "orig_nbformat": 2,
  "kernelspec": {
   "name": "Python 3.8.3 64-bit ('base': conda)",
   "display_name": "Python 3.8.3 64-bit ('base': conda)",
   "metadata": {
    "interpreter": {
     "hash": "ecf5722fdaf1897a315d257d89d94520bfcaa453217d5becf09b39e73618b0de"
    }
   }
  }
 },
 "nbformat": 4,
 "nbformat_minor": 2,
 "cells": [
  {
   "source": [
    "# PredictIt Arbitrage Finder\n",
    "Takes a look at every market on PredictIt and looks for best arbitrage opportunities."
   ],
   "cell_type": "markdown",
   "metadata": {}
  },
  {
   "source": [
    "import mechanicalsoup\n",
    "import pandas as pd\n",
    "import numpy as np\n",
    "import json\n",
    "import datetime\n",
    "import math\n",
    "\n",
    "browser = mechanicalsoup.Browser()\n",
    "data=browser.get('https://www.predictit.org/api/marketdata/all/').json()"
   ],
   "cell_type": "code",
   "metadata": {},
   "execution_count": 1,
   "outputs": []
  },
  {
   "cell_type": "code",
   "execution_count": 2,
   "metadata": {},
   "outputs": [],
   "source": [
    "#set up dataframe\n",
    "marketdf=pd.DataFrame(data)\n",
    "df=pd.json_normalize(marketdf['markets'])"
   ]
  },
  {
   "cell_type": "code",
   "execution_count": 3,
   "metadata": {},
   "outputs": [
    {
     "output_type": "execute_result",
     "data": {
      "text/plain": [
       "       id                                               name  \\\n",
       "115  6632  Which party will win Wyoming in the 2020 presi...   \n",
       "162  6797  Which party will win the U.S. Senate election ...   \n",
       "\n",
       "                                    shortName  \\\n",
       "115             Which party will win WY 2020?   \n",
       "162  Which party will win the WY Senate race?   \n",
       "\n",
       "                                                 image  \\\n",
       "115  https://az620379.vo.msecnd.net/images/Markets/...   \n",
       "162  https://az620379.vo.msecnd.net/images/Markets/...   \n",
       "\n",
       "                                                   url  \\\n",
       "115  https://www.predictit.org/markets/detail/6632/...   \n",
       "162  https://www.predictit.org/markets/detail/6797/...   \n",
       "\n",
       "                                             contracts  \\\n",
       "115  [{'id': 22241, 'dateEnd': 'NA', 'image': 'http...   \n",
       "162  [{'id': 23237, 'dateEnd': 'NA', 'image': 'http...   \n",
       "\n",
       "                       timeStamp status  \n",
       "115  2020-10-21T12:07:57.8734341   Open  \n",
       "162  2020-10-21T12:07:57.8734341   Open  "
      ],
      "text/html": "<div>\n<style scoped>\n    .dataframe tbody tr th:only-of-type {\n        vertical-align: middle;\n    }\n\n    .dataframe tbody tr th {\n        vertical-align: top;\n    }\n\n    .dataframe thead th {\n        text-align: right;\n    }\n</style>\n<table border=\"1\" class=\"dataframe\">\n  <thead>\n    <tr style=\"text-align: right;\">\n      <th></th>\n      <th>id</th>\n      <th>name</th>\n      <th>shortName</th>\n      <th>image</th>\n      <th>url</th>\n      <th>contracts</th>\n      <th>timeStamp</th>\n      <th>status</th>\n    </tr>\n  </thead>\n  <tbody>\n    <tr>\n      <th>115</th>\n      <td>6632</td>\n      <td>Which party will win Wyoming in the 2020 presi...</td>\n      <td>Which party will win WY 2020?</td>\n      <td>https://az620379.vo.msecnd.net/images/Markets/...</td>\n      <td>https://www.predictit.org/markets/detail/6632/...</td>\n      <td>[{'id': 22241, 'dateEnd': 'NA', 'image': 'http...</td>\n      <td>2020-10-21T12:07:57.8734341</td>\n      <td>Open</td>\n    </tr>\n    <tr>\n      <th>162</th>\n      <td>6797</td>\n      <td>Which party will win the U.S. Senate election ...</td>\n      <td>Which party will win the WY Senate race?</td>\n      <td>https://az620379.vo.msecnd.net/images/Markets/...</td>\n      <td>https://www.predictit.org/markets/detail/6797/...</td>\n      <td>[{'id': 23237, 'dateEnd': 'NA', 'image': 'http...</td>\n      <td>2020-10-21T12:07:57.8734341</td>\n      <td>Open</td>\n    </tr>\n  </tbody>\n</table>\n</div>"
     },
     "metadata": {},
     "execution_count": 3
    }
   ],
   "source": [
    "presidentdf=df[df['shortName'].str.startswith('Which party will win') & (df['shortName'].str.endswith('in 2020?') | df['shortName'].str.endswith(' 2020?'))]\n",
    "df[df['name'].str.contains('Wyoming')]"
   ]
  },
  {
   "cell_type": "code",
   "execution_count": 4,
   "metadata": {},
   "outputs": [
    {
     "output_type": "execute_result",
     "data": {
      "text/plain": [
       "31     Which party will win WI in 2020?\n",
       "32     Which party will win PA in 2020?\n",
       "33     Which party will win FL in 2020?\n",
       "34     Which party will win MI in 2020?\n",
       "36     Which party will win AZ in 2020?\n",
       "37     Which party will win MN in 2020?\n",
       "38     Which party will win NH in 2020?\n",
       "39     Which party will win NC in 2020?\n",
       "40     Which party will win OH in 2020?\n",
       "41     Which party will win NV in 2020?\n",
       "42     Which party will win VA in 2020?\n",
       "43     Which party will win IA in 2020?\n",
       "44     Which party will win GA in 2020?\n",
       "45     Which party will win CO in 2020?\n",
       "49     Which party will win TX in 2020?\n",
       "82     Which party will win ME in 2020?\n",
       "83     Which party will win IN in 2020?\n",
       "84     Which party will win NM in 2020?\n",
       "87     Which party will win NJ in 2020?\n",
       "88     Which party will win MO in 2020?\n",
       "89     Which party will win OR in 2020?\n",
       "90     Which party will win UT in 2020?\n",
       "91     Which party will win TN in 2020?\n",
       "92     Which party will win CT in 2020?\n",
       "93     Which party will win AK in 2020?\n",
       "94     Which party will win KY in 2020?\n",
       "95     Which party will win MD in 2020?\n",
       "96     Which party will win MA in 2020?\n",
       "97     Which party will win AR in 2020?\n",
       "98     Which party will win WA in 2020?\n",
       "99     Which party will win MT in 2020?\n",
       "101    Which party will win SC in 2020?\n",
       "102    Which party will win CA in 2020?\n",
       "103    Which party will win NY in 2020?\n",
       "104    Which party will win IL in 2020?\n",
       "105    Which party will win WV in 2020?\n",
       "106    Which party will win OK in 2020?\n",
       "107    Which party will win LA in 2020?\n",
       "108    Which party will win ID in 2020?\n",
       "109    Which party will win NE in 2020?\n",
       "110    Which party will win AL in 2020?\n",
       "111    Which party will win KS in 2020?\n",
       "112    Which party will win MS in 2020?\n",
       "113    Which party will win RI in 2020?\n",
       "114    Which party will win HI in 2020?\n",
       "115       Which party will win WY 2020?\n",
       "116    Which party will win VT in 2020?\n",
       "117    Which party will win DE in 2020?\n",
       "118    Which party will win ND in 2020?\n",
       "119    Which party will win SD in 2020?\n",
       "121    Which party will win DC in 2020?\n",
       "Name: shortName, dtype: object"
      ]
     },
     "metadata": {},
     "execution_count": 4
    }
   ],
   "source": [
    "presidentdf=presidentdf[(presidentdf['shortName'].str.len()<=32)]\n",
    "presidentdf['shortName']"
   ]
  },
  {
   "cell_type": "code",
   "execution_count": 5,
   "metadata": {},
   "outputs": [],
   "source": [
    "presidentdf['state']=presidentdf['shortName'].str[21:23]"
   ]
  },
  {
   "cell_type": "code",
   "execution_count": 6,
   "metadata": {},
   "outputs": [],
   "source": [
    "fivethirtyeight=pd.read_csv('https://projects.fivethirtyeight.com/2020-general-data/presidential_state_toplines_2020.csv')"
   ]
  },
  {
   "cell_type": "code",
   "execution_count": 7,
   "metadata": {},
   "outputs": [
    {
     "output_type": "execute_result",
     "data": {
      "text/plain": [
       "Index(['cycle', 'branch', 'model', 'modeldate', 'candidate_inc',\n",
       "       'candidate_chal', 'candidate_3rd', 'state', 'tipping', 'vpi',\n",
       "       'winstate_inc', 'winstate_chal', 'winstate_3rd', 'voteshare_inc',\n",
       "       'voteshare_chal', 'voteshare_3rd', 'voteshare_other',\n",
       "       'voteshare_inc_hi', 'voteshare_chal_hi', 'voteshare_3rd_hi',\n",
       "       'voteshare_other_hi', 'voteshare_inc_lo', 'voteshare_chal_lo',\n",
       "       'voteshare_3rd_lo', 'voteshare_other_lo', 'margin', 'margin_hi',\n",
       "       'margin_lo', 'win_EC_if_win_state_inc', 'win_EC_if_win_state_chal',\n",
       "       'win_state_if_win_EC_inc', 'win_state_if_win_EC_chal', 'state_turnout',\n",
       "       'state_turnout_hi', 'state_turnout_lo', 'timestamp', 'simulations'],\n",
       "      dtype='object')"
      ]
     },
     "metadata": {},
     "execution_count": 7
    }
   ],
   "source": [
    "fivethirtyeight.columns"
   ]
  },
  {
   "cell_type": "code",
   "execution_count": 8,
   "metadata": {},
   "outputs": [],
   "source": [
    "fivethirtyeight=fivethirtyeight[fivethirtyeight['modeldate']==datetime.date.strftime(datetime.date.today(), \"%m/%d/%Y\")]"
   ]
  },
  {
   "cell_type": "code",
   "execution_count": 9,
   "metadata": {},
   "outputs": [],
   "source": [
    "states=pd.read_csv('name-abbr.csv')"
   ]
  },
  {
   "cell_type": "code",
   "execution_count": 10,
   "metadata": {},
   "outputs": [
    {
     "output_type": "execute_result",
     "data": {
      "text/plain": [
       "                    Name Abbrev\n",
       "0                Alabama     AL\n",
       "1                 Alaska     AK\n",
       "2                Arizona     AZ\n",
       "3               Arkansas     AR\n",
       "4             California     CA\n",
       "5               Colorado     CO\n",
       "6            Connecticut     CT\n",
       "7               Delaware     DE\n",
       "8   District Of Columbia     DC\n",
       "9                Florida     FL\n",
       "10               Georgia     GA\n",
       "11                Hawaii     HI\n",
       "12                 Idaho     ID\n",
       "13              Illinois     IL\n",
       "14               Indiana     IN\n",
       "15                  Iowa     IA\n",
       "16                Kansas     KS\n",
       "17              Kentucky     KY\n",
       "18             Louisiana     LA\n",
       "19                 Maine     ME\n",
       "20              Maryland     MD\n",
       "21         Massachusetts     MA\n",
       "22              Michigan     MI\n",
       "23             Minnesota     MN\n",
       "24           Mississippi     MS\n",
       "25              Missouri     MO\n",
       "26               Montana     MT\n",
       "27              Nebraska     NE\n",
       "28                Nevada     NV\n",
       "29         New Hampshire     NH\n",
       "30            New Jersey     NJ\n",
       "31            New Mexico     NM\n",
       "32              New York     NY\n",
       "33        North Carolina     NC\n",
       "34          North Dakota     ND\n",
       "35                  Ohio     OH\n",
       "36              Oklahoma     OK\n",
       "37                Oregon     OR\n",
       "38          Pennsylvania     PA\n",
       "39          Rhode Island     RI\n",
       "40        South Carolina     SC\n",
       "41          South Dakota     SD\n",
       "42             Tennessee     TN\n",
       "43                 Texas     TX\n",
       "44                  Utah     UT\n",
       "45               Vermont     VT\n",
       "46              Virginia     VA\n",
       "47            Washington     WA\n",
       "48         West Virginia     WV\n",
       "49             Wisconsin     WI\n",
       "50               Wyoming     WY"
      ],
      "text/html": "<div>\n<style scoped>\n    .dataframe tbody tr th:only-of-type {\n        vertical-align: middle;\n    }\n\n    .dataframe tbody tr th {\n        vertical-align: top;\n    }\n\n    .dataframe thead th {\n        text-align: right;\n    }\n</style>\n<table border=\"1\" class=\"dataframe\">\n  <thead>\n    <tr style=\"text-align: right;\">\n      <th></th>\n      <th>Name</th>\n      <th>Abbrev</th>\n    </tr>\n  </thead>\n  <tbody>\n    <tr>\n      <th>0</th>\n      <td>Alabama</td>\n      <td>AL</td>\n    </tr>\n    <tr>\n      <th>1</th>\n      <td>Alaska</td>\n      <td>AK</td>\n    </tr>\n    <tr>\n      <th>2</th>\n      <td>Arizona</td>\n      <td>AZ</td>\n    </tr>\n    <tr>\n      <th>3</th>\n      <td>Arkansas</td>\n      <td>AR</td>\n    </tr>\n    <tr>\n      <th>4</th>\n      <td>California</td>\n      <td>CA</td>\n    </tr>\n    <tr>\n      <th>5</th>\n      <td>Colorado</td>\n      <td>CO</td>\n    </tr>\n    <tr>\n      <th>6</th>\n      <td>Connecticut</td>\n      <td>CT</td>\n    </tr>\n    <tr>\n      <th>7</th>\n      <td>Delaware</td>\n      <td>DE</td>\n    </tr>\n    <tr>\n      <th>8</th>\n      <td>District Of Columbia</td>\n      <td>DC</td>\n    </tr>\n    <tr>\n      <th>9</th>\n      <td>Florida</td>\n      <td>FL</td>\n    </tr>\n    <tr>\n      <th>10</th>\n      <td>Georgia</td>\n      <td>GA</td>\n    </tr>\n    <tr>\n      <th>11</th>\n      <td>Hawaii</td>\n      <td>HI</td>\n    </tr>\n    <tr>\n      <th>12</th>\n      <td>Idaho</td>\n      <td>ID</td>\n    </tr>\n    <tr>\n      <th>13</th>\n      <td>Illinois</td>\n      <td>IL</td>\n    </tr>\n    <tr>\n      <th>14</th>\n      <td>Indiana</td>\n      <td>IN</td>\n    </tr>\n    <tr>\n      <th>15</th>\n      <td>Iowa</td>\n      <td>IA</td>\n    </tr>\n    <tr>\n      <th>16</th>\n      <td>Kansas</td>\n      <td>KS</td>\n    </tr>\n    <tr>\n      <th>17</th>\n      <td>Kentucky</td>\n      <td>KY</td>\n    </tr>\n    <tr>\n      <th>18</th>\n      <td>Louisiana</td>\n      <td>LA</td>\n    </tr>\n    <tr>\n      <th>19</th>\n      <td>Maine</td>\n      <td>ME</td>\n    </tr>\n    <tr>\n      <th>20</th>\n      <td>Maryland</td>\n      <td>MD</td>\n    </tr>\n    <tr>\n      <th>21</th>\n      <td>Massachusetts</td>\n      <td>MA</td>\n    </tr>\n    <tr>\n      <th>22</th>\n      <td>Michigan</td>\n      <td>MI</td>\n    </tr>\n    <tr>\n      <th>23</th>\n      <td>Minnesota</td>\n      <td>MN</td>\n    </tr>\n    <tr>\n      <th>24</th>\n      <td>Mississippi</td>\n      <td>MS</td>\n    </tr>\n    <tr>\n      <th>25</th>\n      <td>Missouri</td>\n      <td>MO</td>\n    </tr>\n    <tr>\n      <th>26</th>\n      <td>Montana</td>\n      <td>MT</td>\n    </tr>\n    <tr>\n      <th>27</th>\n      <td>Nebraska</td>\n      <td>NE</td>\n    </tr>\n    <tr>\n      <th>28</th>\n      <td>Nevada</td>\n      <td>NV</td>\n    </tr>\n    <tr>\n      <th>29</th>\n      <td>New Hampshire</td>\n      <td>NH</td>\n    </tr>\n    <tr>\n      <th>30</th>\n      <td>New Jersey</td>\n      <td>NJ</td>\n    </tr>\n    <tr>\n      <th>31</th>\n      <td>New Mexico</td>\n      <td>NM</td>\n    </tr>\n    <tr>\n      <th>32</th>\n      <td>New York</td>\n      <td>NY</td>\n    </tr>\n    <tr>\n      <th>33</th>\n      <td>North Carolina</td>\n      <td>NC</td>\n    </tr>\n    <tr>\n      <th>34</th>\n      <td>North Dakota</td>\n      <td>ND</td>\n    </tr>\n    <tr>\n      <th>35</th>\n      <td>Ohio</td>\n      <td>OH</td>\n    </tr>\n    <tr>\n      <th>36</th>\n      <td>Oklahoma</td>\n      <td>OK</td>\n    </tr>\n    <tr>\n      <th>37</th>\n      <td>Oregon</td>\n      <td>OR</td>\n    </tr>\n    <tr>\n      <th>38</th>\n      <td>Pennsylvania</td>\n      <td>PA</td>\n    </tr>\n    <tr>\n      <th>39</th>\n      <td>Rhode Island</td>\n      <td>RI</td>\n    </tr>\n    <tr>\n      <th>40</th>\n      <td>South Carolina</td>\n      <td>SC</td>\n    </tr>\n    <tr>\n      <th>41</th>\n      <td>South Dakota</td>\n      <td>SD</td>\n    </tr>\n    <tr>\n      <th>42</th>\n      <td>Tennessee</td>\n      <td>TN</td>\n    </tr>\n    <tr>\n      <th>43</th>\n      <td>Texas</td>\n      <td>TX</td>\n    </tr>\n    <tr>\n      <th>44</th>\n      <td>Utah</td>\n      <td>UT</td>\n    </tr>\n    <tr>\n      <th>45</th>\n      <td>Vermont</td>\n      <td>VT</td>\n    </tr>\n    <tr>\n      <th>46</th>\n      <td>Virginia</td>\n      <td>VA</td>\n    </tr>\n    <tr>\n      <th>47</th>\n      <td>Washington</td>\n      <td>WA</td>\n    </tr>\n    <tr>\n      <th>48</th>\n      <td>West Virginia</td>\n      <td>WV</td>\n    </tr>\n    <tr>\n      <th>49</th>\n      <td>Wisconsin</td>\n      <td>WI</td>\n    </tr>\n    <tr>\n      <th>50</th>\n      <td>Wyoming</td>\n      <td>WY</td>\n    </tr>\n  </tbody>\n</table>\n</div>"
     },
     "metadata": {},
     "execution_count": 10
    }
   ],
   "source": [
    "states"
   ]
  },
  {
   "cell_type": "code",
   "execution_count": 11,
   "metadata": {},
   "outputs": [],
   "source": [
    "alldf=pd.merge(pd.merge(presidentdf,states,how=\"outer\",left_on='state',right_on='Abbrev'),fivethirtyeight,left_on='Name',right_on='state')"
   ]
  },
  {
   "cell_type": "code",
   "execution_count": 12,
   "metadata": {},
   "outputs": [],
   "source": [
    "def rounddown(a,places=2):\n",
    "    a = math.floor(a * pow(10,places)) / pow(10,places)\n",
    "    return a\n",
    "\n",
    "alldf['repubprob']=alldf['winstate_inc'].apply(rounddown)\n",
    "alldf['demprob']=alldf['winstate_chal'].apply(rounddown)"
   ]
  },
  {
   "cell_type": "code",
   "execution_count": 14,
   "metadata": {},
   "outputs": [
    {
     "output_type": "execute_result",
     "data": {
      "text/plain": [
       "      id dateEnd                                              image  \\\n",
       "0  15705     N/A  https://az620379.vo.msecnd.net/images/Contract...   \n",
       "1  15704     N/A  https://az620379.vo.msecnd.net/images/Contract...   \n",
       "\n",
       "         name   shortName status  lastTradePrice  bestBuyYesCost  \\\n",
       "0  Democratic  Democratic   Open            0.65            0.66   \n",
       "1  Republican  Republican   Open            0.37            0.37   \n",
       "\n",
       "   bestBuyNoCost  bestSellYesCost  bestSellNoCost  lastClosePrice  \\\n",
       "0           0.35             0.65            0.34            0.65   \n",
       "1           0.64             0.36            0.63            0.38   \n",
       "\n",
       "   displayOrder  \n",
       "0             0  \n",
       "1             0  "
      ],
      "text/html": "<div>\n<style scoped>\n    .dataframe tbody tr th:only-of-type {\n        vertical-align: middle;\n    }\n\n    .dataframe tbody tr th {\n        vertical-align: top;\n    }\n\n    .dataframe thead th {\n        text-align: right;\n    }\n</style>\n<table border=\"1\" class=\"dataframe\">\n  <thead>\n    <tr style=\"text-align: right;\">\n      <th></th>\n      <th>id</th>\n      <th>dateEnd</th>\n      <th>image</th>\n      <th>name</th>\n      <th>shortName</th>\n      <th>status</th>\n      <th>lastTradePrice</th>\n      <th>bestBuyYesCost</th>\n      <th>bestBuyNoCost</th>\n      <th>bestSellYesCost</th>\n      <th>bestSellNoCost</th>\n      <th>lastClosePrice</th>\n      <th>displayOrder</th>\n    </tr>\n  </thead>\n  <tbody>\n    <tr>\n      <th>0</th>\n      <td>15705</td>\n      <td>N/A</td>\n      <td>https://az620379.vo.msecnd.net/images/Contract...</td>\n      <td>Democratic</td>\n      <td>Democratic</td>\n      <td>Open</td>\n      <td>0.65</td>\n      <td>0.66</td>\n      <td>0.35</td>\n      <td>0.65</td>\n      <td>0.34</td>\n      <td>0.65</td>\n      <td>0</td>\n    </tr>\n    <tr>\n      <th>1</th>\n      <td>15704</td>\n      <td>N/A</td>\n      <td>https://az620379.vo.msecnd.net/images/Contract...</td>\n      <td>Republican</td>\n      <td>Republican</td>\n      <td>Open</td>\n      <td>0.37</td>\n      <td>0.37</td>\n      <td>0.64</td>\n      <td>0.36</td>\n      <td>0.63</td>\n      <td>0.38</td>\n      <td>0</td>\n    </tr>\n  </tbody>\n</table>\n</div>"
     },
     "metadata": {},
     "execution_count": 14
    }
   ],
   "source": [
    "pd.json_normalize(alldf['contracts'][1])"
   ]
  },
  {
   "cell_type": "code",
   "execution_count": 15,
   "metadata": {},
   "outputs": [],
   "source": [
    "alldf['dempriceNO']=0.0\n",
    "alldf['reppriceNO']=0.0"
   ]
  },
  {
   "cell_type": "code",
   "execution_count": 16,
   "metadata": {},
   "outputs": [
    {
     "output_type": "stream",
     "name": "stdout",
     "text": [
      "0\n",
      "1\n",
      "2\n",
      "3\n",
      "4\n",
      "5\n",
      "6\n",
      "7\n",
      "8\n",
      "9\n",
      "10\n",
      "11\n",
      "12\n",
      "13\n",
      "14\n",
      "15\n",
      "16\n",
      "17\n",
      "18\n",
      "19\n",
      "20\n",
      "21\n",
      "22\n",
      "23\n",
      "24\n",
      "25\n",
      "26\n",
      "27\n",
      "28\n",
      "29\n",
      "30\n",
      "31\n",
      "32\n",
      "33\n",
      "34\n",
      "35\n",
      "36\n",
      "37\n",
      "38\n",
      "39\n",
      "40\n",
      "41\n",
      "42\n",
      "43\n",
      "44\n",
      "45\n",
      "46\n",
      "47\n",
      "48\n",
      "49\n"
     ]
    }
   ],
   "source": [
    "#Get two way arb\n",
    "for i in range(0,len(alldf)):\n",
    "    print(i)\n",
    "    contracts=pd.json_normalize(alldf['contracts'][i])\n",
    "    demprice = contracts[contracts['name']=='Democratic']['bestBuyNoCost']\n",
    "    repprice = contracts[contracts['name']=='Republican']['bestBuyNoCost']\n",
    "    alldf['dempriceNO'][i] = demprice\n",
    "    alldf['reppriceNO'][i] = repprice"
   ]
  },
  {
   "cell_type": "code",
   "execution_count": 17,
   "metadata": {},
   "outputs": [],
   "source": [
    "alldf['kellyRepNo']=alldf['demprob']-(1-alldf['demprob'])/(.9*(1-alldf['reppriceNO'])/alldf['reppriceNO'])\n",
    "alldf['kellyDemNo']=alldf['repubprob']-(1-alldf['repubprob'])/(.9*(1-alldf['dempriceNO'])/alldf['dempriceNO'])"
   ]
  },
  {
   "cell_type": "code",
   "execution_count": 22,
   "metadata": {},
   "outputs": [
    {
     "output_type": "execute_result",
     "data": {
      "text/plain": [
       "      id                                               name  \\\n",
       "10  5602  Which party will win Virginia in the 2020 pres...   \n",
       "33  6612  Which party will win New York in the 2020 pres...   \n",
       "32  6611  Which party will win California in the 2020 pr...   \n",
       "29  6598  Which party will win Washington in the 2020 pr...   \n",
       "44  6631  Which party will win Hawaii in the 2020 presid...   \n",
       "34  6613  Which party will win Illinois in the 2020 pres...   \n",
       "47  6636  Which party will win Delaware in the 2020 pres...   \n",
       "46  6633  Which party will win Vermont in the 2020 presi...   \n",
       "27  6596  Which party will win Massachusetts in the 2020...   \n",
       "23  6587  Which party will win Connecticut in the 2020 p...   \n",
       "\n",
       "                           shortName  \\\n",
       "10  Which party will win VA in 2020?   \n",
       "33  Which party will win NY in 2020?   \n",
       "32  Which party will win CA in 2020?   \n",
       "29  Which party will win WA in 2020?   \n",
       "44  Which party will win HI in 2020?   \n",
       "34  Which party will win IL in 2020?   \n",
       "47  Which party will win DE in 2020?   \n",
       "46  Which party will win VT in 2020?   \n",
       "27  Which party will win MA in 2020?   \n",
       "23  Which party will win CT in 2020?   \n",
       "\n",
       "                                                image  \\\n",
       "10  https://az620379.vo.msecnd.net/images/Markets/...   \n",
       "33  https://az620379.vo.msecnd.net/images/Markets/...   \n",
       "32  https://az620379.vo.msecnd.net/images/Markets/...   \n",
       "29  https://az620379.vo.msecnd.net/images/Markets/...   \n",
       "44  https://az620379.vo.msecnd.net/images/Markets/...   \n",
       "34  https://az620379.vo.msecnd.net/images/Markets/...   \n",
       "47  https://az620379.vo.msecnd.net/images/Markets/...   \n",
       "46  https://az620379.vo.msecnd.net/images/Markets/...   \n",
       "27  https://az620379.vo.msecnd.net/images/Markets/...   \n",
       "23  https://az620379.vo.msecnd.net/images/Markets/...   \n",
       "\n",
       "                                                  url  \\\n",
       "10  https://www.predictit.org/markets/detail/5602/...   \n",
       "33  https://www.predictit.org/markets/detail/6612/...   \n",
       "32  https://www.predictit.org/markets/detail/6611/...   \n",
       "29  https://www.predictit.org/markets/detail/6598/...   \n",
       "44  https://www.predictit.org/markets/detail/6631/...   \n",
       "34  https://www.predictit.org/markets/detail/6613/...   \n",
       "47  https://www.predictit.org/markets/detail/6636/...   \n",
       "46  https://www.predictit.org/markets/detail/6633/...   \n",
       "27  https://www.predictit.org/markets/detail/6596/...   \n",
       "23  https://www.predictit.org/markets/detail/6587/...   \n",
       "\n",
       "                                            contracts  \\\n",
       "10  [{'id': 16012, 'dateEnd': 'N/A', 'image': 'htt...   \n",
       "33  [{'id': 22162, 'dateEnd': 'NA', 'image': 'http...   \n",
       "32  [{'id': 22160, 'dateEnd': 'NA', 'image': 'http...   \n",
       "29  [{'id': 22114, 'dateEnd': 'NA', 'image': 'http...   \n",
       "44  [{'id': 22240, 'dateEnd': 'NA', 'image': 'http...   \n",
       "34  [{'id': 22164, 'dateEnd': 'NA', 'image': 'http...   \n",
       "47  [{'id': 22264, 'dateEnd': 'NA', 'image': 'http...   \n",
       "46  [{'id': 22244, 'dateEnd': 'NA', 'image': 'http...   \n",
       "27  [{'id': 22110, 'dateEnd': 'NA', 'image': 'http...   \n",
       "23  [{'id': 22081, 'dateEnd': 'NA', 'image': 'http...   \n",
       "\n",
       "                      timeStamp status state_x           Name  ...  \\\n",
       "10  2020-10-21T12:07:57.8734341   Open      VA       Virginia  ...   \n",
       "33  2020-10-21T12:07:57.8734341   Open      NY       New York  ...   \n",
       "32  2020-10-21T12:07:57.8734341   Open      CA     California  ...   \n",
       "29  2020-10-21T12:07:57.8734341   Open      WA     Washington  ...   \n",
       "44  2020-10-21T12:07:57.8734341   Open      HI         Hawaii  ...   \n",
       "34  2020-10-21T12:07:57.8734341   Open      IL       Illinois  ...   \n",
       "47  2020-10-21T12:07:57.8734341   Open      DE       Delaware  ...   \n",
       "46  2020-10-21T12:07:57.8734341   Open      VT        Vermont  ...   \n",
       "27  2020-10-21T12:07:57.8734341   Open      MA  Massachusetts  ...   \n",
       "23  2020-10-21T12:07:57.8734341   Open      CT    Connecticut  ...   \n",
       "\n",
       "   state_turnout_hi  state_turnout_lo             timestamp simulations  \\\n",
       "10        4848092.0         3740613.0  11:06:05 21 Oct 2020       40000   \n",
       "33        8899502.0         6772883.0  11:06:05 21 Oct 2020       40000   \n",
       "32       16500000.0        12500000.0  11:06:05 21 Oct 2020       40000   \n",
       "29        4130124.0         3164438.0  11:06:05 21 Oct 2020       40000   \n",
       "44         501627.5          375376.0  11:06:05 21 Oct 2020       40000   \n",
       "34        6458305.0         4960260.0  11:06:05 21 Oct 2020       40000   \n",
       "47         528663.0          403068.0  11:06:05 21 Oct 2020       40000   \n",
       "46         368200.0          277264.5  11:06:05 21 Oct 2020       40000   \n",
       "27        3862282.0         2934019.0  11:06:05 21 Oct 2020       40000   \n",
       "23        1881711.0         1450092.0  11:06:05 21 Oct 2020       40000   \n",
       "\n",
       "   repubprob demprob dempriceNO  reppriceNO kellyRepNo  kellyDemNo  \n",
       "10       0.0    0.99       0.10        0.90   0.890000   -0.123457  \n",
       "33       0.0    0.99       0.08        0.92   0.862222   -0.096618  \n",
       "32       0.0    0.99       0.07        0.92   0.862222   -0.083632  \n",
       "29       0.0    0.99       0.07        0.92   0.862222   -0.083632  \n",
       "44       0.0    0.99       0.07        0.93   0.842381   -0.083632  \n",
       "34       0.0    0.99       0.07        0.93   0.842381   -0.083632  \n",
       "47       0.0    0.99       0.07        0.94   0.815926   -0.083632  \n",
       "46       0.0    0.99       0.07        0.94   0.815926   -0.083632  \n",
       "27       0.0    0.99       0.07        0.94   0.815926   -0.083632  \n",
       "23       0.0    0.99       0.07        0.94   0.815926   -0.083632  \n",
       "\n",
       "[10 rows x 54 columns]"
      ],
      "text/html": "<div>\n<style scoped>\n    .dataframe tbody tr th:only-of-type {\n        vertical-align: middle;\n    }\n\n    .dataframe tbody tr th {\n        vertical-align: top;\n    }\n\n    .dataframe thead th {\n        text-align: right;\n    }\n</style>\n<table border=\"1\" class=\"dataframe\">\n  <thead>\n    <tr style=\"text-align: right;\">\n      <th></th>\n      <th>id</th>\n      <th>name</th>\n      <th>shortName</th>\n      <th>image</th>\n      <th>url</th>\n      <th>contracts</th>\n      <th>timeStamp</th>\n      <th>status</th>\n      <th>state_x</th>\n      <th>Name</th>\n      <th>...</th>\n      <th>state_turnout_hi</th>\n      <th>state_turnout_lo</th>\n      <th>timestamp</th>\n      <th>simulations</th>\n      <th>repubprob</th>\n      <th>demprob</th>\n      <th>dempriceNO</th>\n      <th>reppriceNO</th>\n      <th>kellyRepNo</th>\n      <th>kellyDemNo</th>\n    </tr>\n  </thead>\n  <tbody>\n    <tr>\n      <th>10</th>\n      <td>5602</td>\n      <td>Which party will win Virginia in the 2020 pres...</td>\n      <td>Which party will win VA in 2020?</td>\n      <td>https://az620379.vo.msecnd.net/images/Markets/...</td>\n      <td>https://www.predictit.org/markets/detail/5602/...</td>\n      <td>[{'id': 16012, 'dateEnd': 'N/A', 'image': 'htt...</td>\n      <td>2020-10-21T12:07:57.8734341</td>\n      <td>Open</td>\n      <td>VA</td>\n      <td>Virginia</td>\n      <td>...</td>\n      <td>4848092.0</td>\n      <td>3740613.0</td>\n      <td>11:06:05 21 Oct 2020</td>\n      <td>40000</td>\n      <td>0.0</td>\n      <td>0.99</td>\n      <td>0.10</td>\n      <td>0.90</td>\n      <td>0.890000</td>\n      <td>-0.123457</td>\n    </tr>\n    <tr>\n      <th>33</th>\n      <td>6612</td>\n      <td>Which party will win New York in the 2020 pres...</td>\n      <td>Which party will win NY in 2020?</td>\n      <td>https://az620379.vo.msecnd.net/images/Markets/...</td>\n      <td>https://www.predictit.org/markets/detail/6612/...</td>\n      <td>[{'id': 22162, 'dateEnd': 'NA', 'image': 'http...</td>\n      <td>2020-10-21T12:07:57.8734341</td>\n      <td>Open</td>\n      <td>NY</td>\n      <td>New York</td>\n      <td>...</td>\n      <td>8899502.0</td>\n      <td>6772883.0</td>\n      <td>11:06:05 21 Oct 2020</td>\n      <td>40000</td>\n      <td>0.0</td>\n      <td>0.99</td>\n      <td>0.08</td>\n      <td>0.92</td>\n      <td>0.862222</td>\n      <td>-0.096618</td>\n    </tr>\n    <tr>\n      <th>32</th>\n      <td>6611</td>\n      <td>Which party will win California in the 2020 pr...</td>\n      <td>Which party will win CA in 2020?</td>\n      <td>https://az620379.vo.msecnd.net/images/Markets/...</td>\n      <td>https://www.predictit.org/markets/detail/6611/...</td>\n      <td>[{'id': 22160, 'dateEnd': 'NA', 'image': 'http...</td>\n      <td>2020-10-21T12:07:57.8734341</td>\n      <td>Open</td>\n      <td>CA</td>\n      <td>California</td>\n      <td>...</td>\n      <td>16500000.0</td>\n      <td>12500000.0</td>\n      <td>11:06:05 21 Oct 2020</td>\n      <td>40000</td>\n      <td>0.0</td>\n      <td>0.99</td>\n      <td>0.07</td>\n      <td>0.92</td>\n      <td>0.862222</td>\n      <td>-0.083632</td>\n    </tr>\n    <tr>\n      <th>29</th>\n      <td>6598</td>\n      <td>Which party will win Washington in the 2020 pr...</td>\n      <td>Which party will win WA in 2020?</td>\n      <td>https://az620379.vo.msecnd.net/images/Markets/...</td>\n      <td>https://www.predictit.org/markets/detail/6598/...</td>\n      <td>[{'id': 22114, 'dateEnd': 'NA', 'image': 'http...</td>\n      <td>2020-10-21T12:07:57.8734341</td>\n      <td>Open</td>\n      <td>WA</td>\n      <td>Washington</td>\n      <td>...</td>\n      <td>4130124.0</td>\n      <td>3164438.0</td>\n      <td>11:06:05 21 Oct 2020</td>\n      <td>40000</td>\n      <td>0.0</td>\n      <td>0.99</td>\n      <td>0.07</td>\n      <td>0.92</td>\n      <td>0.862222</td>\n      <td>-0.083632</td>\n    </tr>\n    <tr>\n      <th>44</th>\n      <td>6631</td>\n      <td>Which party will win Hawaii in the 2020 presid...</td>\n      <td>Which party will win HI in 2020?</td>\n      <td>https://az620379.vo.msecnd.net/images/Markets/...</td>\n      <td>https://www.predictit.org/markets/detail/6631/...</td>\n      <td>[{'id': 22240, 'dateEnd': 'NA', 'image': 'http...</td>\n      <td>2020-10-21T12:07:57.8734341</td>\n      <td>Open</td>\n      <td>HI</td>\n      <td>Hawaii</td>\n      <td>...</td>\n      <td>501627.5</td>\n      <td>375376.0</td>\n      <td>11:06:05 21 Oct 2020</td>\n      <td>40000</td>\n      <td>0.0</td>\n      <td>0.99</td>\n      <td>0.07</td>\n      <td>0.93</td>\n      <td>0.842381</td>\n      <td>-0.083632</td>\n    </tr>\n    <tr>\n      <th>34</th>\n      <td>6613</td>\n      <td>Which party will win Illinois in the 2020 pres...</td>\n      <td>Which party will win IL in 2020?</td>\n      <td>https://az620379.vo.msecnd.net/images/Markets/...</td>\n      <td>https://www.predictit.org/markets/detail/6613/...</td>\n      <td>[{'id': 22164, 'dateEnd': 'NA', 'image': 'http...</td>\n      <td>2020-10-21T12:07:57.8734341</td>\n      <td>Open</td>\n      <td>IL</td>\n      <td>Illinois</td>\n      <td>...</td>\n      <td>6458305.0</td>\n      <td>4960260.0</td>\n      <td>11:06:05 21 Oct 2020</td>\n      <td>40000</td>\n      <td>0.0</td>\n      <td>0.99</td>\n      <td>0.07</td>\n      <td>0.93</td>\n      <td>0.842381</td>\n      <td>-0.083632</td>\n    </tr>\n    <tr>\n      <th>47</th>\n      <td>6636</td>\n      <td>Which party will win Delaware in the 2020 pres...</td>\n      <td>Which party will win DE in 2020?</td>\n      <td>https://az620379.vo.msecnd.net/images/Markets/...</td>\n      <td>https://www.predictit.org/markets/detail/6636/...</td>\n      <td>[{'id': 22264, 'dateEnd': 'NA', 'image': 'http...</td>\n      <td>2020-10-21T12:07:57.8734341</td>\n      <td>Open</td>\n      <td>DE</td>\n      <td>Delaware</td>\n      <td>...</td>\n      <td>528663.0</td>\n      <td>403068.0</td>\n      <td>11:06:05 21 Oct 2020</td>\n      <td>40000</td>\n      <td>0.0</td>\n      <td>0.99</td>\n      <td>0.07</td>\n      <td>0.94</td>\n      <td>0.815926</td>\n      <td>-0.083632</td>\n    </tr>\n    <tr>\n      <th>46</th>\n      <td>6633</td>\n      <td>Which party will win Vermont in the 2020 presi...</td>\n      <td>Which party will win VT in 2020?</td>\n      <td>https://az620379.vo.msecnd.net/images/Markets/...</td>\n      <td>https://www.predictit.org/markets/detail/6633/...</td>\n      <td>[{'id': 22244, 'dateEnd': 'NA', 'image': 'http...</td>\n      <td>2020-10-21T12:07:57.8734341</td>\n      <td>Open</td>\n      <td>VT</td>\n      <td>Vermont</td>\n      <td>...</td>\n      <td>368200.0</td>\n      <td>277264.5</td>\n      <td>11:06:05 21 Oct 2020</td>\n      <td>40000</td>\n      <td>0.0</td>\n      <td>0.99</td>\n      <td>0.07</td>\n      <td>0.94</td>\n      <td>0.815926</td>\n      <td>-0.083632</td>\n    </tr>\n    <tr>\n      <th>27</th>\n      <td>6596</td>\n      <td>Which party will win Massachusetts in the 2020...</td>\n      <td>Which party will win MA in 2020?</td>\n      <td>https://az620379.vo.msecnd.net/images/Markets/...</td>\n      <td>https://www.predictit.org/markets/detail/6596/...</td>\n      <td>[{'id': 22110, 'dateEnd': 'NA', 'image': 'http...</td>\n      <td>2020-10-21T12:07:57.8734341</td>\n      <td>Open</td>\n      <td>MA</td>\n      <td>Massachusetts</td>\n      <td>...</td>\n      <td>3862282.0</td>\n      <td>2934019.0</td>\n      <td>11:06:05 21 Oct 2020</td>\n      <td>40000</td>\n      <td>0.0</td>\n      <td>0.99</td>\n      <td>0.07</td>\n      <td>0.94</td>\n      <td>0.815926</td>\n      <td>-0.083632</td>\n    </tr>\n    <tr>\n      <th>23</th>\n      <td>6587</td>\n      <td>Which party will win Connecticut in the 2020 p...</td>\n      <td>Which party will win CT in 2020?</td>\n      <td>https://az620379.vo.msecnd.net/images/Markets/...</td>\n      <td>https://www.predictit.org/markets/detail/6587/...</td>\n      <td>[{'id': 22081, 'dateEnd': 'NA', 'image': 'http...</td>\n      <td>2020-10-21T12:07:57.8734341</td>\n      <td>Open</td>\n      <td>CT</td>\n      <td>Connecticut</td>\n      <td>...</td>\n      <td>1881711.0</td>\n      <td>1450092.0</td>\n      <td>11:06:05 21 Oct 2020</td>\n      <td>40000</td>\n      <td>0.0</td>\n      <td>0.99</td>\n      <td>0.07</td>\n      <td>0.94</td>\n      <td>0.815926</td>\n      <td>-0.083632</td>\n    </tr>\n  </tbody>\n</table>\n<p>10 rows × 54 columns</p>\n</div>"
     },
     "metadata": {},
     "execution_count": 22
    }
   ],
   "source": [
    "alldf.sort_values('kellyRepNo',ascending=False).head(10)"
   ]
  },
  {
   "cell_type": "code",
   "execution_count": 21,
   "metadata": {},
   "outputs": [
    {
     "output_type": "execute_result",
     "data": {
      "text/plain": [
       "      id                                               name  \\\n",
       "39  6624  Which party will win Nebraska in the 2020 pres...   \n",
       "28  6597  Which party will win Arkansas in the 2020 pres...   \n",
       "45  6632  Which party will win Wyoming in the 2020 presi...   \n",
       "38  6623  Which party will win Idaho in the 2020 preside...   \n",
       "\n",
       "                           shortName  \\\n",
       "39  Which party will win NE in 2020?   \n",
       "28  Which party will win AR in 2020?   \n",
       "45     Which party will win WY 2020?   \n",
       "38  Which party will win ID in 2020?   \n",
       "\n",
       "                                                image  \\\n",
       "39  https://az620379.vo.msecnd.net/images/Markets/...   \n",
       "28  https://az620379.vo.msecnd.net/images/Markets/...   \n",
       "45  https://az620379.vo.msecnd.net/images/Markets/...   \n",
       "38  https://az620379.vo.msecnd.net/images/Markets/...   \n",
       "\n",
       "                                                  url  \\\n",
       "39  https://www.predictit.org/markets/detail/6624/...   \n",
       "28  https://www.predictit.org/markets/detail/6597/...   \n",
       "45  https://www.predictit.org/markets/detail/6632/...   \n",
       "38  https://www.predictit.org/markets/detail/6623/...   \n",
       "\n",
       "                                            contracts  \\\n",
       "39  [{'id': 22220, 'dateEnd': 'NA', 'image': 'http...   \n",
       "28  [{'id': 22111, 'dateEnd': 'NA', 'image': 'http...   \n",
       "45  [{'id': 22241, 'dateEnd': 'NA', 'image': 'http...   \n",
       "38  [{'id': 22218, 'dateEnd': 'NA', 'image': 'http...   \n",
       "\n",
       "                      timeStamp status state_x      Name  ...  \\\n",
       "39  2020-10-21T12:07:57.8734341   Open      NE  Nebraska  ...   \n",
       "28  2020-10-21T12:07:57.8734341   Open      AR  Arkansas  ...   \n",
       "45  2020-10-21T12:07:57.8734341   Open      WY   Wyoming  ...   \n",
       "38  2020-10-21T12:07:57.8734341   Open      ID     Idaho  ...   \n",
       "\n",
       "   state_turnout_hi  state_turnout_lo             timestamp simulations  \\\n",
       "39         998045.0          753777.0  11:06:05 21 Oct 2020       40000   \n",
       "28        1321178.0          994043.0  11:06:05 21 Oct 2020       40000   \n",
       "45         294408.0          212729.0  11:06:05 21 Oct 2020       40000   \n",
       "38         861292.5          637845.0  11:06:05 21 Oct 2020       40000   \n",
       "\n",
       "   repubprob demprob dempriceNO  reppriceNO kellyRepNo  kellyDemNo  \n",
       "39      0.99    0.00       0.95        0.06  -0.070922    0.778889  \n",
       "28      0.98    0.01       0.94        0.07  -0.072796    0.631852  \n",
       "45      0.99    0.00       0.97        0.04  -0.046296    0.630741  \n",
       "38      0.99    0.00       0.97        0.04  -0.046296    0.630741  \n",
       "\n",
       "[4 rows x 54 columns]"
      ],
      "text/html": "<div>\n<style scoped>\n    .dataframe tbody tr th:only-of-type {\n        vertical-align: middle;\n    }\n\n    .dataframe tbody tr th {\n        vertical-align: top;\n    }\n\n    .dataframe thead th {\n        text-align: right;\n    }\n</style>\n<table border=\"1\" class=\"dataframe\">\n  <thead>\n    <tr style=\"text-align: right;\">\n      <th></th>\n      <th>id</th>\n      <th>name</th>\n      <th>shortName</th>\n      <th>image</th>\n      <th>url</th>\n      <th>contracts</th>\n      <th>timeStamp</th>\n      <th>status</th>\n      <th>state_x</th>\n      <th>Name</th>\n      <th>...</th>\n      <th>state_turnout_hi</th>\n      <th>state_turnout_lo</th>\n      <th>timestamp</th>\n      <th>simulations</th>\n      <th>repubprob</th>\n      <th>demprob</th>\n      <th>dempriceNO</th>\n      <th>reppriceNO</th>\n      <th>kellyRepNo</th>\n      <th>kellyDemNo</th>\n    </tr>\n  </thead>\n  <tbody>\n    <tr>\n      <th>39</th>\n      <td>6624</td>\n      <td>Which party will win Nebraska in the 2020 pres...</td>\n      <td>Which party will win NE in 2020?</td>\n      <td>https://az620379.vo.msecnd.net/images/Markets/...</td>\n      <td>https://www.predictit.org/markets/detail/6624/...</td>\n      <td>[{'id': 22220, 'dateEnd': 'NA', 'image': 'http...</td>\n      <td>2020-10-21T12:07:57.8734341</td>\n      <td>Open</td>\n      <td>NE</td>\n      <td>Nebraska</td>\n      <td>...</td>\n      <td>998045.0</td>\n      <td>753777.0</td>\n      <td>11:06:05 21 Oct 2020</td>\n      <td>40000</td>\n      <td>0.99</td>\n      <td>0.00</td>\n      <td>0.95</td>\n      <td>0.06</td>\n      <td>-0.070922</td>\n      <td>0.778889</td>\n    </tr>\n    <tr>\n      <th>28</th>\n      <td>6597</td>\n      <td>Which party will win Arkansas in the 2020 pres...</td>\n      <td>Which party will win AR in 2020?</td>\n      <td>https://az620379.vo.msecnd.net/images/Markets/...</td>\n      <td>https://www.predictit.org/markets/detail/6597/...</td>\n      <td>[{'id': 22111, 'dateEnd': 'NA', 'image': 'http...</td>\n      <td>2020-10-21T12:07:57.8734341</td>\n      <td>Open</td>\n      <td>AR</td>\n      <td>Arkansas</td>\n      <td>...</td>\n      <td>1321178.0</td>\n      <td>994043.0</td>\n      <td>11:06:05 21 Oct 2020</td>\n      <td>40000</td>\n      <td>0.98</td>\n      <td>0.01</td>\n      <td>0.94</td>\n      <td>0.07</td>\n      <td>-0.072796</td>\n      <td>0.631852</td>\n    </tr>\n    <tr>\n      <th>45</th>\n      <td>6632</td>\n      <td>Which party will win Wyoming in the 2020 presi...</td>\n      <td>Which party will win WY 2020?</td>\n      <td>https://az620379.vo.msecnd.net/images/Markets/...</td>\n      <td>https://www.predictit.org/markets/detail/6632/...</td>\n      <td>[{'id': 22241, 'dateEnd': 'NA', 'image': 'http...</td>\n      <td>2020-10-21T12:07:57.8734341</td>\n      <td>Open</td>\n      <td>WY</td>\n      <td>Wyoming</td>\n      <td>...</td>\n      <td>294408.0</td>\n      <td>212729.0</td>\n      <td>11:06:05 21 Oct 2020</td>\n      <td>40000</td>\n      <td>0.99</td>\n      <td>0.00</td>\n      <td>0.97</td>\n      <td>0.04</td>\n      <td>-0.046296</td>\n      <td>0.630741</td>\n    </tr>\n    <tr>\n      <th>38</th>\n      <td>6623</td>\n      <td>Which party will win Idaho in the 2020 preside...</td>\n      <td>Which party will win ID in 2020?</td>\n      <td>https://az620379.vo.msecnd.net/images/Markets/...</td>\n      <td>https://www.predictit.org/markets/detail/6623/...</td>\n      <td>[{'id': 22218, 'dateEnd': 'NA', 'image': 'http...</td>\n      <td>2020-10-21T12:07:57.8734341</td>\n      <td>Open</td>\n      <td>ID</td>\n      <td>Idaho</td>\n      <td>...</td>\n      <td>861292.5</td>\n      <td>637845.0</td>\n      <td>11:06:05 21 Oct 2020</td>\n      <td>40000</td>\n      <td>0.99</td>\n      <td>0.00</td>\n      <td>0.97</td>\n      <td>0.04</td>\n      <td>-0.046296</td>\n      <td>0.630741</td>\n    </tr>\n  </tbody>\n</table>\n<p>4 rows × 54 columns</p>\n</div>"
     },
     "metadata": {},
     "execution_count": 21
    }
   ],
   "source": [
    "alldf.sort_values('kellyDemNo',ascending=False).head(4)"
   ]
  },
  {
   "cell_type": "code",
   "execution_count": null,
   "metadata": {},
   "outputs": [],
   "source": []
  }
 ]
}