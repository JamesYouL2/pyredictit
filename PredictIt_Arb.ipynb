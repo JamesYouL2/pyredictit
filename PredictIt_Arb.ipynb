{
 "metadata": {
  "language_info": {
   "codemirror_mode": {
    "name": "ipython",
    "version": 3
   },
   "file_extension": ".py",
   "mimetype": "text/x-python",
   "name": "python",
   "nbconvert_exporter": "python",
   "pygments_lexer": "ipython3",
   "version": "3.8.3-final"
  },
  "orig_nbformat": 2,
  "kernelspec": {
   "name": "Python 3.8.3 64-bit ('base': conda)",
   "display_name": "Python 3.8.3 64-bit ('base': conda)",
   "metadata": {
    "interpreter": {
     "hash": "ecf5722fdaf1897a315d257d89d94520bfcaa453217d5becf09b39e73618b0de"
    }
   }
  }
 },
 "nbformat": 4,
 "nbformat_minor": 2,
 "cells": [
  {
   "source": [
    "# PredictIt Arbitrage Finder\n",
    "Takes a look at every market on PredictIt and looks for best arbitrage opportunities."
   ],
   "cell_type": "markdown",
   "metadata": {}
  },
  {
   "cell_type": "code",
   "execution_count": 1,
   "metadata": {},
   "outputs": [],
   "source": [
    "import mechanicalsoup\n",
    "import pandas as pd\n",
    "import numpy as np\n",
    "import json\n",
    "\n",
    "browser = mechanicalsoup.Browser()\n",
    "data=browser.get('https://www.predictit.org/api/marketdata/all/').json()"
   ]
  },
  {
   "cell_type": "code",
   "execution_count": 2,
   "metadata": {},
   "outputs": [],
   "source": [
    "#set up dataframe\n",
    "marketdf=pd.DataFrame(data)\n",
    "df=pd.json_normalize(marketdf['markets'])\n",
    "df['arb']=np.nan"
   ]
  },
  {
   "cell_type": "code",
   "execution_count": 3,
   "metadata": {
    "tags": []
   },
   "outputs": [],
   "source": [
    "#Get two way arb\n",
    "for i in range(1,len(df)):\n",
    "    #print(i)\n",
    "    contracts=pd.json_normalize(df['contracts'][i])\n",
    "    contracts=contracts[contracts['bestBuyNoCost'] > 0.0]\n",
    "    contracts=pd.json_normalize(df['contracts'][i])\n",
    "    contracts=contracts[contracts['bestBuyNoCost'] > 0.0]\n",
    "    if len(contracts) > 1:\n",
    "        contracts['payoff'] = .9 * (1 - contracts['bestBuyNoCost']) + contracts['bestBuyNoCost']\n",
    "        contracts['shares'] = (100 / contracts['payoff']).round()\n",
    "        cost = sum(contracts['shares']*contracts['bestBuyNoCost'])\n",
    "        payoff = sum(contracts['payoff']*contracts['shares'])-max(contracts['payoff']*contracts['shares'])\n",
    "        df['arb'][i] = payoff - cost"
   ]
  },
  {
   "cell_type": "code",
   "execution_count": 4,
   "metadata": {},
   "outputs": [
    {
     "output_type": "execute_result",
     "data": {
      "text/plain": [
       "       id                                               name  \\\n",
       "128  6653  What will be the Electoral College margin in t...   \n",
       "185  6853  Which presidential candidate will finish fourt...   \n",
       "129  6663  What will be the popular vote margin in the 20...   \n",
       "12   3698  Who will win the 2020 U.S. presidential election?   \n",
       "131  6669  How many House seats will Democrats win in the...   \n",
       "..    ...                                                ...   \n",
       "213  6906  Will Trump or Biden personally concede defeat ...   \n",
       "215  6909  Will California Proposition 15 (Property Tax) ...   \n",
       "217  6914  Will California Proposition 22 (App-based Driv...   \n",
       "221  6920  Will Donald Trump be winning at 6 a.m. (ET) th...   \n",
       "224  6926  How many Republican absentee ballots reported ...   \n",
       "\n",
       "                                    shortName  \\\n",
       "128      Electoral College margin of victory?   \n",
       "185   4th place in presidential popular vote?   \n",
       "129           Popular Vote margin of victory?   \n",
       "12         2020 presidential election winner?   \n",
       "131     House seats won by Democrats in 2020?   \n",
       "..                                        ...   \n",
       "213     Trump or Biden concession by Nov. 17?   \n",
       "215       CA Prop 15 (Property Tax) approved?   \n",
       "217  CA Prop 22 (App-Based drivers) approved?   \n",
       "221    Trump winning at 6 a.m. on November 4?   \n",
       "224         NC Republican absentees on 10/21?   \n",
       "\n",
       "                                                 image  \\\n",
       "128  https://az620379.vo.msecnd.net/images/Markets/...   \n",
       "185  https://az620379.vo.msecnd.net/images/Markets/...   \n",
       "129  https://az620379.vo.msecnd.net/images/Markets/...   \n",
       "12   https://az620379.vo.msecnd.net/images/Markets/...   \n",
       "131  https://az620379.vo.msecnd.net/images/Markets/...   \n",
       "..                                                 ...   \n",
       "213  https://az620379.vo.msecnd.net/images/Markets/...   \n",
       "215  https://az620379.vo.msecnd.net/images/Markets/...   \n",
       "217  https://az620379.vo.msecnd.net/images/Markets/...   \n",
       "221  https://az620379.vo.msecnd.net/images/Markets/...   \n",
       "224  https://az620379.vo.msecnd.net/images/Markets/...   \n",
       "\n",
       "                                                   url  \\\n",
       "128  https://www.predictit.org/markets/detail/6653/...   \n",
       "185  https://www.predictit.org/markets/detail/6853/...   \n",
       "129  https://www.predictit.org/markets/detail/6663/...   \n",
       "12   https://www.predictit.org/markets/detail/3698/...   \n",
       "131  https://www.predictit.org/markets/detail/6669/...   \n",
       "..                                                 ...   \n",
       "213  https://www.predictit.org/markets/detail/6906/...   \n",
       "215  https://www.predictit.org/markets/detail/6909/...   \n",
       "217  https://www.predictit.org/markets/detail/6914/...   \n",
       "221  https://www.predictit.org/markets/detail/6920/...   \n",
       "224  https://www.predictit.org/markets/detail/6926/...   \n",
       "\n",
       "                                             contracts  \\\n",
       "128  [{'id': 22320, 'dateEnd': 'NA', 'image': 'http...   \n",
       "185  [{'id': 23503, 'dateEnd': 'NA', 'image': 'http...   \n",
       "129  [{'id': 22395, 'dateEnd': 'NA', 'image': 'http...   \n",
       "12   [{'id': 7940, 'dateEnd': 'N/A', 'image': 'http...   \n",
       "131  [{'id': 22449, 'dateEnd': 'NA', 'image': 'http...   \n",
       "..                                                 ...   \n",
       "213  [{'id': 23762, 'dateEnd': '2020-11-17T23:59:00...   \n",
       "215  [{'id': 23775, 'dateEnd': 'NA', 'image': 'http...   \n",
       "217  [{'id': 23822, 'dateEnd': 'NA', 'image': 'http...   \n",
       "221  [{'id': 23862, 'dateEnd': '2020-11-04T06:00:00...   \n",
       "224  [{'id': 23908, 'dateEnd': 'NA', 'image': 'http...   \n",
       "\n",
       "                      timeStamp status    arb  \n",
       "128  2020-10-20T21:06:58.092745   Open  6.767  \n",
       "185  2020-10-20T21:06:58.092745   Open -0.119  \n",
       "129  2020-10-20T21:06:58.092745   Open -0.172  \n",
       "12   2020-10-20T21:06:58.092745   Open -0.180  \n",
       "131  2020-10-20T21:06:58.092745   Open -0.323  \n",
       "..                          ...    ...    ...  \n",
       "213  2020-10-20T21:06:58.092745   Open    NaN  \n",
       "215  2020-10-20T21:06:58.092745   Open    NaN  \n",
       "217  2020-10-20T21:06:58.092745   Open    NaN  \n",
       "221  2020-10-20T21:06:58.092745   Open    NaN  \n",
       "224  2020-10-20T21:06:58.092745   Open    NaN  \n",
       "\n",
       "[231 rows x 9 columns]"
      ],
      "text/html": "<div>\n<style scoped>\n    .dataframe tbody tr th:only-of-type {\n        vertical-align: middle;\n    }\n\n    .dataframe tbody tr th {\n        vertical-align: top;\n    }\n\n    .dataframe thead th {\n        text-align: right;\n    }\n</style>\n<table border=\"1\" class=\"dataframe\">\n  <thead>\n    <tr style=\"text-align: right;\">\n      <th></th>\n      <th>id</th>\n      <th>name</th>\n      <th>shortName</th>\n      <th>image</th>\n      <th>url</th>\n      <th>contracts</th>\n      <th>timeStamp</th>\n      <th>status</th>\n      <th>arb</th>\n    </tr>\n  </thead>\n  <tbody>\n    <tr>\n      <th>128</th>\n      <td>6653</td>\n      <td>What will be the Electoral College margin in t...</td>\n      <td>Electoral College margin of victory?</td>\n      <td>https://az620379.vo.msecnd.net/images/Markets/...</td>\n      <td>https://www.predictit.org/markets/detail/6653/...</td>\n      <td>[{'id': 22320, 'dateEnd': 'NA', 'image': 'http...</td>\n      <td>2020-10-20T21:06:58.092745</td>\n      <td>Open</td>\n      <td>6.767</td>\n    </tr>\n    <tr>\n      <th>185</th>\n      <td>6853</td>\n      <td>Which presidential candidate will finish fourt...</td>\n      <td>4th place in presidential popular vote?</td>\n      <td>https://az620379.vo.msecnd.net/images/Markets/...</td>\n      <td>https://www.predictit.org/markets/detail/6853/...</td>\n      <td>[{'id': 23503, 'dateEnd': 'NA', 'image': 'http...</td>\n      <td>2020-10-20T21:06:58.092745</td>\n      <td>Open</td>\n      <td>-0.119</td>\n    </tr>\n    <tr>\n      <th>129</th>\n      <td>6663</td>\n      <td>What will be the popular vote margin in the 20...</td>\n      <td>Popular Vote margin of victory?</td>\n      <td>https://az620379.vo.msecnd.net/images/Markets/...</td>\n      <td>https://www.predictit.org/markets/detail/6663/...</td>\n      <td>[{'id': 22395, 'dateEnd': 'NA', 'image': 'http...</td>\n      <td>2020-10-20T21:06:58.092745</td>\n      <td>Open</td>\n      <td>-0.172</td>\n    </tr>\n    <tr>\n      <th>12</th>\n      <td>3698</td>\n      <td>Who will win the 2020 U.S. presidential election?</td>\n      <td>2020 presidential election winner?</td>\n      <td>https://az620379.vo.msecnd.net/images/Markets/...</td>\n      <td>https://www.predictit.org/markets/detail/3698/...</td>\n      <td>[{'id': 7940, 'dateEnd': 'N/A', 'image': 'http...</td>\n      <td>2020-10-20T21:06:58.092745</td>\n      <td>Open</td>\n      <td>-0.180</td>\n    </tr>\n    <tr>\n      <th>131</th>\n      <td>6669</td>\n      <td>How many House seats will Democrats win in the...</td>\n      <td>House seats won by Democrats in 2020?</td>\n      <td>https://az620379.vo.msecnd.net/images/Markets/...</td>\n      <td>https://www.predictit.org/markets/detail/6669/...</td>\n      <td>[{'id': 22449, 'dateEnd': 'NA', 'image': 'http...</td>\n      <td>2020-10-20T21:06:58.092745</td>\n      <td>Open</td>\n      <td>-0.323</td>\n    </tr>\n    <tr>\n      <th>...</th>\n      <td>...</td>\n      <td>...</td>\n      <td>...</td>\n      <td>...</td>\n      <td>...</td>\n      <td>...</td>\n      <td>...</td>\n      <td>...</td>\n      <td>...</td>\n    </tr>\n    <tr>\n      <th>213</th>\n      <td>6906</td>\n      <td>Will Trump or Biden personally concede defeat ...</td>\n      <td>Trump or Biden concession by Nov. 17?</td>\n      <td>https://az620379.vo.msecnd.net/images/Markets/...</td>\n      <td>https://www.predictit.org/markets/detail/6906/...</td>\n      <td>[{'id': 23762, 'dateEnd': '2020-11-17T23:59:00...</td>\n      <td>2020-10-20T21:06:58.092745</td>\n      <td>Open</td>\n      <td>NaN</td>\n    </tr>\n    <tr>\n      <th>215</th>\n      <td>6909</td>\n      <td>Will California Proposition 15 (Property Tax) ...</td>\n      <td>CA Prop 15 (Property Tax) approved?</td>\n      <td>https://az620379.vo.msecnd.net/images/Markets/...</td>\n      <td>https://www.predictit.org/markets/detail/6909/...</td>\n      <td>[{'id': 23775, 'dateEnd': 'NA', 'image': 'http...</td>\n      <td>2020-10-20T21:06:58.092745</td>\n      <td>Open</td>\n      <td>NaN</td>\n    </tr>\n    <tr>\n      <th>217</th>\n      <td>6914</td>\n      <td>Will California Proposition 22 (App-based Driv...</td>\n      <td>CA Prop 22 (App-Based drivers) approved?</td>\n      <td>https://az620379.vo.msecnd.net/images/Markets/...</td>\n      <td>https://www.predictit.org/markets/detail/6914/...</td>\n      <td>[{'id': 23822, 'dateEnd': 'NA', 'image': 'http...</td>\n      <td>2020-10-20T21:06:58.092745</td>\n      <td>Open</td>\n      <td>NaN</td>\n    </tr>\n    <tr>\n      <th>221</th>\n      <td>6920</td>\n      <td>Will Donald Trump be winning at 6 a.m. (ET) th...</td>\n      <td>Trump winning at 6 a.m. on November 4?</td>\n      <td>https://az620379.vo.msecnd.net/images/Markets/...</td>\n      <td>https://www.predictit.org/markets/detail/6920/...</td>\n      <td>[{'id': 23862, 'dateEnd': '2020-11-04T06:00:00...</td>\n      <td>2020-10-20T21:06:58.092745</td>\n      <td>Open</td>\n      <td>NaN</td>\n    </tr>\n    <tr>\n      <th>224</th>\n      <td>6926</td>\n      <td>How many Republican absentee ballots reported ...</td>\n      <td>NC Republican absentees on 10/21?</td>\n      <td>https://az620379.vo.msecnd.net/images/Markets/...</td>\n      <td>https://www.predictit.org/markets/detail/6926/...</td>\n      <td>[{'id': 23908, 'dateEnd': 'NA', 'image': 'http...</td>\n      <td>2020-10-20T21:06:58.092745</td>\n      <td>Open</td>\n      <td>NaN</td>\n    </tr>\n  </tbody>\n</table>\n<p>231 rows × 9 columns</p>\n</div>"
     },
     "metadata": {},
     "execution_count": 4
    }
   ],
   "source": [
    "df.sort_values('arb', ascending = False)"
   ]
  },
  {
   "cell_type": "code",
   "execution_count": 5,
   "metadata": {},
   "outputs": [
    {
     "output_type": "execute_result",
     "data": {
      "text/plain": [
       "       id              dateEnd  \\\n",
       "6   23953  2020-10-23T12:00:00   \n",
       "7   23950  2020-10-23T12:00:00   \n",
       "8   23949  2020-10-23T12:00:00   \n",
       "9   23948  2020-10-23T12:00:00   \n",
       "10  23947  2020-10-23T12:00:00   \n",
       "11  23945  2020-10-23T12:00:00   \n",
       "\n",
       "                                                image                  name  \\\n",
       "6   https://az620379.vo.msecnd.net/images/Contract...  4.0 mil. to 4.2 mil.   \n",
       "7   https://az620379.vo.msecnd.net/images/Contract...  4.2 mil. to 4.4 mil.   \n",
       "8   https://az620379.vo.msecnd.net/images/Contract...  4.4 mil. to 4.6 mil.   \n",
       "9   https://az620379.vo.msecnd.net/images/Contract...  4.6 mil. to 4.8 mil.   \n",
       "10  https://az620379.vo.msecnd.net/images/Contract...  4.8 mil. to 5.0 mil.   \n",
       "11  https://az620379.vo.msecnd.net/images/Contract...      5.0 mil. or more   \n",
       "\n",
       "            shortName status  lastTradePrice  bestBuyYesCost  bestBuyNoCost  \\\n",
       "6   4.0 mil - 4.2 mil   Open            0.02            0.03           0.98   \n",
       "7   4.2 mil - 4.4 mil   Open            0.04            0.05           0.96   \n",
       "8   4.4 mil - 4.6 mil   Open            0.14            0.14           0.87   \n",
       "9   4.6 mi. - 4.8 mil   Open            0.32            0.32           0.70   \n",
       "10  4.8 mil - 5.0 mil   Open            0.28            0.28           0.74   \n",
       "11   5.0 mil. or more   Open            0.32            0.31           0.70   \n",
       "\n",
       "    bestSellYesCost  bestSellNoCost  lastClosePrice  displayOrder  payoff  \\\n",
       "6              0.02            0.97            0.05             6   0.998   \n",
       "7              0.04            0.95            0.18             7   0.996   \n",
       "8              0.13            0.86            0.21             8   0.987   \n",
       "9              0.30            0.68            0.17             9   0.970   \n",
       "10             0.26            0.72            0.14            10   0.974   \n",
       "11             0.30            0.69            0.36            11   0.970   \n",
       "\n",
       "    shares  \n",
       "6     51.0  \n",
       "7     51.0  \n",
       "8     52.0  \n",
       "9     53.0  \n",
       "10    52.0  \n",
       "11    53.0  "
      ],
      "text/html": "<div>\n<style scoped>\n    .dataframe tbody tr th:only-of-type {\n        vertical-align: middle;\n    }\n\n    .dataframe tbody tr th {\n        vertical-align: top;\n    }\n\n    .dataframe thead th {\n        text-align: right;\n    }\n</style>\n<table border=\"1\" class=\"dataframe\">\n  <thead>\n    <tr style=\"text-align: right;\">\n      <th></th>\n      <th>id</th>\n      <th>dateEnd</th>\n      <th>image</th>\n      <th>name</th>\n      <th>shortName</th>\n      <th>status</th>\n      <th>lastTradePrice</th>\n      <th>bestBuyYesCost</th>\n      <th>bestBuyNoCost</th>\n      <th>bestSellYesCost</th>\n      <th>bestSellNoCost</th>\n      <th>lastClosePrice</th>\n      <th>displayOrder</th>\n      <th>payoff</th>\n      <th>shares</th>\n    </tr>\n  </thead>\n  <tbody>\n    <tr>\n      <th>6</th>\n      <td>23953</td>\n      <td>2020-10-23T12:00:00</td>\n      <td>https://az620379.vo.msecnd.net/images/Contract...</td>\n      <td>4.0 mil. to 4.2 mil.</td>\n      <td>4.0 mil - 4.2 mil</td>\n      <td>Open</td>\n      <td>0.02</td>\n      <td>0.03</td>\n      <td>0.98</td>\n      <td>0.02</td>\n      <td>0.97</td>\n      <td>0.05</td>\n      <td>6</td>\n      <td>0.998</td>\n      <td>51.0</td>\n    </tr>\n    <tr>\n      <th>7</th>\n      <td>23950</td>\n      <td>2020-10-23T12:00:00</td>\n      <td>https://az620379.vo.msecnd.net/images/Contract...</td>\n      <td>4.2 mil. to 4.4 mil.</td>\n      <td>4.2 mil - 4.4 mil</td>\n      <td>Open</td>\n      <td>0.04</td>\n      <td>0.05</td>\n      <td>0.96</td>\n      <td>0.04</td>\n      <td>0.95</td>\n      <td>0.18</td>\n      <td>7</td>\n      <td>0.996</td>\n      <td>51.0</td>\n    </tr>\n    <tr>\n      <th>8</th>\n      <td>23949</td>\n      <td>2020-10-23T12:00:00</td>\n      <td>https://az620379.vo.msecnd.net/images/Contract...</td>\n      <td>4.4 mil. to 4.6 mil.</td>\n      <td>4.4 mil - 4.6 mil</td>\n      <td>Open</td>\n      <td>0.14</td>\n      <td>0.14</td>\n      <td>0.87</td>\n      <td>0.13</td>\n      <td>0.86</td>\n      <td>0.21</td>\n      <td>8</td>\n      <td>0.987</td>\n      <td>52.0</td>\n    </tr>\n    <tr>\n      <th>9</th>\n      <td>23948</td>\n      <td>2020-10-23T12:00:00</td>\n      <td>https://az620379.vo.msecnd.net/images/Contract...</td>\n      <td>4.6 mil. to 4.8 mil.</td>\n      <td>4.6 mi. - 4.8 mil</td>\n      <td>Open</td>\n      <td>0.32</td>\n      <td>0.32</td>\n      <td>0.70</td>\n      <td>0.30</td>\n      <td>0.68</td>\n      <td>0.17</td>\n      <td>9</td>\n      <td>0.970</td>\n      <td>53.0</td>\n    </tr>\n    <tr>\n      <th>10</th>\n      <td>23947</td>\n      <td>2020-10-23T12:00:00</td>\n      <td>https://az620379.vo.msecnd.net/images/Contract...</td>\n      <td>4.8 mil. to 5.0 mil.</td>\n      <td>4.8 mil - 5.0 mil</td>\n      <td>Open</td>\n      <td>0.28</td>\n      <td>0.28</td>\n      <td>0.74</td>\n      <td>0.26</td>\n      <td>0.72</td>\n      <td>0.14</td>\n      <td>10</td>\n      <td>0.974</td>\n      <td>52.0</td>\n    </tr>\n    <tr>\n      <th>11</th>\n      <td>23945</td>\n      <td>2020-10-23T12:00:00</td>\n      <td>https://az620379.vo.msecnd.net/images/Contract...</td>\n      <td>5.0 mil. or more</td>\n      <td>5.0 mil. or more</td>\n      <td>Open</td>\n      <td>0.32</td>\n      <td>0.31</td>\n      <td>0.70</td>\n      <td>0.30</td>\n      <td>0.69</td>\n      <td>0.36</td>\n      <td>11</td>\n      <td>0.970</td>\n      <td>53.0</td>\n    </tr>\n  </tbody>\n</table>\n</div>"
     },
     "metadata": {},
     "execution_count": 5
    }
   ],
   "source": [
    "i = 227\n",
    "contracts=pd.json_normalize(df['contracts'][i])\n",
    "contracts=contracts[contracts['bestBuyNoCost'] > 0.0]\n",
    "contracts=pd.json_normalize(df['contracts'][i])\n",
    "contracts=contracts[contracts['bestBuyNoCost'] > 0.0]\n",
    "contracts['payoff'] = .9 * (1 - contracts['bestBuyNoCost']) + contracts['bestBuyNoCost']\n",
    "contracts['shares'] = (51 / contracts['payoff']).round()\n",
    "contracts"
   ]
  },
  {
   "cell_type": "code",
   "execution_count": 6,
   "metadata": {},
   "outputs": [
    {
     "output_type": "execute_result",
     "data": {
      "text/plain": [
       "       id                                               name  \\\n",
       "0    2721  Which party will win the 2020 U.S. presidentia...   \n",
       "1    2747         Will Mark Cuban run for president in 2020?   \n",
       "2    2875       Will Andrew Cuomo run for president in 2020?   \n",
       "3    2901    Will a woman be elected U.S. president in 2020?   \n",
       "4    2992  Will Facebook's Mark Zuckerberg run for presid...   \n",
       "..    ...                                                ...   \n",
       "226  6928  How many returned absentee ballots reported in...   \n",
       "227  6929  How many mail-in and early votes reported in F...   \n",
       "228  6930  What will be the margin in the presidential el...   \n",
       "229  6931  How many votes for Kanye West in the 2020 U.S....   \n",
       "230  6932  How many Democratic absentee ballots reported ...   \n",
       "\n",
       "                                    shortName  \\\n",
       "0    Which party wins the presidency in 2020?   \n",
       "1                     Will Cuban run in 2020?   \n",
       "2                     Will Cuomo run in 2020?   \n",
       "3                    Woman president in 2020?   \n",
       "4                Will Zuckerberg run in 2020?   \n",
       "..                                        ...   \n",
       "226    Wisconsin absentees reported on 10/22?   \n",
       "227   FL mail-in & early votes at noon 10/23?   \n",
       "228         Georgia presidential vote margin?   \n",
       "229                  Votes for Kanye in 2020?   \n",
       "230  NC Democrat absentees reported on 10/27?   \n",
       "\n",
       "                                                 image  \\\n",
       "0    https://az620379.vo.msecnd.net/images/Markets/...   \n",
       "1    https://az620379.vo.msecnd.net/images/Markets/...   \n",
       "2    https://az620379.vo.msecnd.net/images/Markets/...   \n",
       "3    https://az620379.vo.msecnd.net/images/Markets/...   \n",
       "4    https://az620379.vo.msecnd.net/images/Markets/...   \n",
       "..                                                 ...   \n",
       "226  https://az620379.vo.msecnd.net/images/Markets/...   \n",
       "227  https://az620379.vo.msecnd.net/images/Markets/...   \n",
       "228  https://az620379.vo.msecnd.net/images/Markets/...   \n",
       "229  https://az620379.vo.msecnd.net/images/Markets/...   \n",
       "230  https://az620379.vo.msecnd.net/images/Markets/...   \n",
       "\n",
       "                                                   url  \\\n",
       "0    https://www.predictit.org/markets/detail/2721/...   \n",
       "1    https://www.predictit.org/markets/detail/2747/...   \n",
       "2    https://www.predictit.org/markets/detail/2875/...   \n",
       "3    https://www.predictit.org/markets/detail/2901/...   \n",
       "4    https://www.predictit.org/markets/detail/2992/...   \n",
       "..                                                 ...   \n",
       "226  https://www.predictit.org/markets/detail/6928/...   \n",
       "227  https://www.predictit.org/markets/detail/6929/...   \n",
       "228  https://www.predictit.org/markets/detail/6930/...   \n",
       "229  https://www.predictit.org/markets/detail/6931/...   \n",
       "230  https://www.predictit.org/markets/detail/6932/...   \n",
       "\n",
       "                                             contracts  \\\n",
       "0    [{'id': 4390, 'dateEnd': 'N/A', 'image': 'http...   \n",
       "1    [{'id': 4495, 'dateEnd': '2020-11-03T23:59:00'...   \n",
       "2    [{'id': 5121, 'dateEnd': '2020-11-03T00:00:00'...   \n",
       "3    [{'id': 5215, 'dateEnd': 'N/A', 'image': 'http...   \n",
       "4    [{'id': 5534, 'dateEnd': '2020-11-03T23:59:00'...   \n",
       "..                                                 ...   \n",
       "226  [{'id': 23932, 'dateEnd': '2020-10-22T11:59:00...   \n",
       "227  [{'id': 23943, 'dateEnd': '2020-10-23T12:00:00...   \n",
       "228  [{'id': 23959, 'dateEnd': 'NA', 'image': 'http...   \n",
       "229  [{'id': 23969, 'dateEnd': 'NA', 'image': 'http...   \n",
       "230  [{'id': 23979, 'dateEnd': 'NA', 'image': 'http...   \n",
       "\n",
       "                      timeStamp status     arb  \n",
       "0    2020-10-20T21:06:58.092745   Open     NaN  \n",
       "1    2020-10-20T21:06:58.092745   Open     NaN  \n",
       "2    2020-10-20T21:06:58.092745   Open     NaN  \n",
       "3    2020-10-20T21:06:58.092745   Open     NaN  \n",
       "4    2020-10-20T21:06:58.092745   Open     NaN  \n",
       "..                          ...    ...     ...  \n",
       "226  2020-10-20T21:06:58.092745   Open -15.740  \n",
       "227  2020-10-20T21:06:58.092745   Open  -3.383  \n",
       "228  2020-10-20T21:06:58.092745   Open  -3.232  \n",
       "229  2020-10-20T21:06:58.092745   Open -12.106  \n",
       "230  2020-10-20T21:06:58.092745   Open  -5.662  \n",
       "\n",
       "[231 rows x 9 columns]"
      ],
      "text/html": "<div>\n<style scoped>\n    .dataframe tbody tr th:only-of-type {\n        vertical-align: middle;\n    }\n\n    .dataframe tbody tr th {\n        vertical-align: top;\n    }\n\n    .dataframe thead th {\n        text-align: right;\n    }\n</style>\n<table border=\"1\" class=\"dataframe\">\n  <thead>\n    <tr style=\"text-align: right;\">\n      <th></th>\n      <th>id</th>\n      <th>name</th>\n      <th>shortName</th>\n      <th>image</th>\n      <th>url</th>\n      <th>contracts</th>\n      <th>timeStamp</th>\n      <th>status</th>\n      <th>arb</th>\n    </tr>\n  </thead>\n  <tbody>\n    <tr>\n      <th>0</th>\n      <td>2721</td>\n      <td>Which party will win the 2020 U.S. presidentia...</td>\n      <td>Which party wins the presidency in 2020?</td>\n      <td>https://az620379.vo.msecnd.net/images/Markets/...</td>\n      <td>https://www.predictit.org/markets/detail/2721/...</td>\n      <td>[{'id': 4390, 'dateEnd': 'N/A', 'image': 'http...</td>\n      <td>2020-10-20T21:06:58.092745</td>\n      <td>Open</td>\n      <td>NaN</td>\n    </tr>\n    <tr>\n      <th>1</th>\n      <td>2747</td>\n      <td>Will Mark Cuban run for president in 2020?</td>\n      <td>Will Cuban run in 2020?</td>\n      <td>https://az620379.vo.msecnd.net/images/Markets/...</td>\n      <td>https://www.predictit.org/markets/detail/2747/...</td>\n      <td>[{'id': 4495, 'dateEnd': '2020-11-03T23:59:00'...</td>\n      <td>2020-10-20T21:06:58.092745</td>\n      <td>Open</td>\n      <td>NaN</td>\n    </tr>\n    <tr>\n      <th>2</th>\n      <td>2875</td>\n      <td>Will Andrew Cuomo run for president in 2020?</td>\n      <td>Will Cuomo run in 2020?</td>\n      <td>https://az620379.vo.msecnd.net/images/Markets/...</td>\n      <td>https://www.predictit.org/markets/detail/2875/...</td>\n      <td>[{'id': 5121, 'dateEnd': '2020-11-03T00:00:00'...</td>\n      <td>2020-10-20T21:06:58.092745</td>\n      <td>Open</td>\n      <td>NaN</td>\n    </tr>\n    <tr>\n      <th>3</th>\n      <td>2901</td>\n      <td>Will a woman be elected U.S. president in 2020?</td>\n      <td>Woman president in 2020?</td>\n      <td>https://az620379.vo.msecnd.net/images/Markets/...</td>\n      <td>https://www.predictit.org/markets/detail/2901/...</td>\n      <td>[{'id': 5215, 'dateEnd': 'N/A', 'image': 'http...</td>\n      <td>2020-10-20T21:06:58.092745</td>\n      <td>Open</td>\n      <td>NaN</td>\n    </tr>\n    <tr>\n      <th>4</th>\n      <td>2992</td>\n      <td>Will Facebook's Mark Zuckerberg run for presid...</td>\n      <td>Will Zuckerberg run in 2020?</td>\n      <td>https://az620379.vo.msecnd.net/images/Markets/...</td>\n      <td>https://www.predictit.org/markets/detail/2992/...</td>\n      <td>[{'id': 5534, 'dateEnd': '2020-11-03T23:59:00'...</td>\n      <td>2020-10-20T21:06:58.092745</td>\n      <td>Open</td>\n      <td>NaN</td>\n    </tr>\n    <tr>\n      <th>...</th>\n      <td>...</td>\n      <td>...</td>\n      <td>...</td>\n      <td>...</td>\n      <td>...</td>\n      <td>...</td>\n      <td>...</td>\n      <td>...</td>\n      <td>...</td>\n    </tr>\n    <tr>\n      <th>226</th>\n      <td>6928</td>\n      <td>How many returned absentee ballots reported in...</td>\n      <td>Wisconsin absentees reported on 10/22?</td>\n      <td>https://az620379.vo.msecnd.net/images/Markets/...</td>\n      <td>https://www.predictit.org/markets/detail/6928/...</td>\n      <td>[{'id': 23932, 'dateEnd': '2020-10-22T11:59:00...</td>\n      <td>2020-10-20T21:06:58.092745</td>\n      <td>Open</td>\n      <td>-15.740</td>\n    </tr>\n    <tr>\n      <th>227</th>\n      <td>6929</td>\n      <td>How many mail-in and early votes reported in F...</td>\n      <td>FL mail-in &amp; early votes at noon 10/23?</td>\n      <td>https://az620379.vo.msecnd.net/images/Markets/...</td>\n      <td>https://www.predictit.org/markets/detail/6929/...</td>\n      <td>[{'id': 23943, 'dateEnd': '2020-10-23T12:00:00...</td>\n      <td>2020-10-20T21:06:58.092745</td>\n      <td>Open</td>\n      <td>-3.383</td>\n    </tr>\n    <tr>\n      <th>228</th>\n      <td>6930</td>\n      <td>What will be the margin in the presidential el...</td>\n      <td>Georgia presidential vote margin?</td>\n      <td>https://az620379.vo.msecnd.net/images/Markets/...</td>\n      <td>https://www.predictit.org/markets/detail/6930/...</td>\n      <td>[{'id': 23959, 'dateEnd': 'NA', 'image': 'http...</td>\n      <td>2020-10-20T21:06:58.092745</td>\n      <td>Open</td>\n      <td>-3.232</td>\n    </tr>\n    <tr>\n      <th>229</th>\n      <td>6931</td>\n      <td>How many votes for Kanye West in the 2020 U.S....</td>\n      <td>Votes for Kanye in 2020?</td>\n      <td>https://az620379.vo.msecnd.net/images/Markets/...</td>\n      <td>https://www.predictit.org/markets/detail/6931/...</td>\n      <td>[{'id': 23969, 'dateEnd': 'NA', 'image': 'http...</td>\n      <td>2020-10-20T21:06:58.092745</td>\n      <td>Open</td>\n      <td>-12.106</td>\n    </tr>\n    <tr>\n      <th>230</th>\n      <td>6932</td>\n      <td>How many Democratic absentee ballots reported ...</td>\n      <td>NC Democrat absentees reported on 10/27?</td>\n      <td>https://az620379.vo.msecnd.net/images/Markets/...</td>\n      <td>https://www.predictit.org/markets/detail/6932/...</td>\n      <td>[{'id': 23979, 'dateEnd': 'NA', 'image': 'http...</td>\n      <td>2020-10-20T21:06:58.092745</td>\n      <td>Open</td>\n      <td>-5.662</td>\n    </tr>\n  </tbody>\n</table>\n<p>231 rows × 9 columns</p>\n</div>"
     },
     "metadata": {},
     "execution_count": 6
    }
   ],
   "source": [
    "df"
   ]
  },
  {
   "cell_type": "code",
   "execution_count": 7,
   "metadata": {},
   "outputs": [],
   "source": [
    "fivethirtyeight=pd.read_csv('https://projects.fivethirtyeight.com/2020-general-data/presidential_state_toplines_2020.csv')"
   ]
  },
  {
   "cell_type": "code",
   "execution_count": 8,
   "metadata": {},
   "outputs": [
    {
     "output_type": "execute_result",
     "data": {
      "text/plain": [
       "Index(['cycle', 'branch', 'model', 'modeldate', 'candidate_inc',\n",
       "       'candidate_chal', 'candidate_3rd', 'state', 'tipping', 'vpi',\n",
       "       'winstate_inc', 'winstate_chal', 'winstate_3rd', 'voteshare_inc',\n",
       "       'voteshare_chal', 'voteshare_3rd', 'voteshare_other',\n",
       "       'voteshare_inc_hi', 'voteshare_chal_hi', 'voteshare_3rd_hi',\n",
       "       'voteshare_other_hi', 'voteshare_inc_lo', 'voteshare_chal_lo',\n",
       "       'voteshare_3rd_lo', 'voteshare_other_lo', 'margin', 'margin_hi',\n",
       "       'margin_lo', 'win_EC_if_win_state_inc', 'win_EC_if_win_state_chal',\n",
       "       'win_state_if_win_EC_inc', 'win_state_if_win_EC_chal', 'state_turnout',\n",
       "       'state_turnout_hi', 'state_turnout_lo', 'timestamp', 'simulations'],\n",
       "      dtype='object')"
      ]
     },
     "metadata": {},
     "execution_count": 8
    }
   ],
   "source": [
    "fivethirtyeight.columns"
   ]
  },
  {
   "cell_type": "code",
   "execution_count": 9,
   "metadata": {},
   "outputs": [
    {
     "output_type": "execute_result",
     "data": {
      "text/plain": [
       "9/17/2020     56\n",
       "7/14/2020     56\n",
       "7/3/2020      56\n",
       "7/9/2020      56\n",
       "10/18/2020    56\n",
       "              ..\n",
       "9/7/2020      56\n",
       "7/2/2020      56\n",
       "7/12/2020     56\n",
       "7/28/2020     56\n",
       "6/13/2020     56\n",
       "Name: modeldate, Length: 142, dtype: int64"
      ]
     },
     "metadata": {},
     "execution_count": 9
    }
   ],
   "source": [
    "fivethirtyeight['modeldate'].value_counts()"
   ]
  },
  {
   "cell_type": "code",
   "execution_count": null,
   "metadata": {},
   "outputs": [],
   "source": []
  }
 ]
}